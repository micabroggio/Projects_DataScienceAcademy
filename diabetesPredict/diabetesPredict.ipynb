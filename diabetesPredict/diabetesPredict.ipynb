{
 "cells": [
  {
   "cell_type": "code",
   "execution_count": 1,
   "id": "f162d329-7d02-46be-91fb-3adfc54d7cf1",
   "metadata": {},
   "outputs": [],
   "source": [
    "#Micael Fernando Broggio\n",
    "#Tutoria - Data Science Academy\n",
    "#Test machine learning Kaggle\n",
    "#2022 july 28\n",
    "#data (https://www.kaggle.com/uciml/pima-indians-diabetes-database/data)"
   ]
  },
  {
   "cell_type": "markdown",
   "id": "68b79644-1e47-419c-9c54-244faaf06fc0",
   "metadata": {},
   "source": [
    "## Exploração e preparação dos dados"
   ]
  },
  {
   "cell_type": "code",
   "execution_count": 2,
   "id": "ba9679b9-e6be-4c32-aa13-fa89575440cd",
   "metadata": {},
   "outputs": [],
   "source": [
    "#import dos frameworks necessarios\n",
    "import pandas as pd\n",
    "import matplotlib.pyplot as plt\n",
    "import numpy as np\n",
    "%matplotlib inline"
   ]
  },
  {
   "cell_type": "code",
   "execution_count": 3,
   "id": "10724072-4c84-4393-8ef2-0fe1c292c142",
   "metadata": {},
   "outputs": [],
   "source": [
    "#importa dados csv\n",
    "df = pd.read_csv(\"pima-data.csv\")"
   ]
  },
  {
   "cell_type": "code",
   "execution_count": 4,
   "id": "6481a0ba-51a9-44b2-ab12-4e4b02045688",
   "metadata": {},
   "outputs": [
    {
     "data": {
      "text/html": [
       "<div>\n",
       "<style scoped>\n",
       "    .dataframe tbody tr th:only-of-type {\n",
       "        vertical-align: middle;\n",
       "    }\n",
       "\n",
       "    .dataframe tbody tr th {\n",
       "        vertical-align: top;\n",
       "    }\n",
       "\n",
       "    .dataframe thead th {\n",
       "        text-align: right;\n",
       "    }\n",
       "</style>\n",
       "<table border=\"1\" class=\"dataframe\">\n",
       "  <thead>\n",
       "    <tr style=\"text-align: right;\">\n",
       "      <th></th>\n",
       "      <th>num_preg</th>\n",
       "      <th>glucose_conc</th>\n",
       "      <th>diastolic_bp</th>\n",
       "      <th>thickness</th>\n",
       "      <th>insulin</th>\n",
       "      <th>bmi</th>\n",
       "      <th>diab_pred</th>\n",
       "      <th>age</th>\n",
       "      <th>skin</th>\n",
       "      <th>diabetes</th>\n",
       "    </tr>\n",
       "  </thead>\n",
       "  <tbody>\n",
       "    <tr>\n",
       "      <th>0</th>\n",
       "      <td>6</td>\n",
       "      <td>148</td>\n",
       "      <td>72</td>\n",
       "      <td>35</td>\n",
       "      <td>0</td>\n",
       "      <td>33.6</td>\n",
       "      <td>0.627</td>\n",
       "      <td>50</td>\n",
       "      <td>1.3780</td>\n",
       "      <td>True</td>\n",
       "    </tr>\n",
       "    <tr>\n",
       "      <th>1</th>\n",
       "      <td>1</td>\n",
       "      <td>85</td>\n",
       "      <td>66</td>\n",
       "      <td>29</td>\n",
       "      <td>0</td>\n",
       "      <td>26.6</td>\n",
       "      <td>0.351</td>\n",
       "      <td>31</td>\n",
       "      <td>1.1426</td>\n",
       "      <td>False</td>\n",
       "    </tr>\n",
       "    <tr>\n",
       "      <th>2</th>\n",
       "      <td>8</td>\n",
       "      <td>183</td>\n",
       "      <td>64</td>\n",
       "      <td>0</td>\n",
       "      <td>0</td>\n",
       "      <td>23.3</td>\n",
       "      <td>0.672</td>\n",
       "      <td>32</td>\n",
       "      <td>0.0000</td>\n",
       "      <td>True</td>\n",
       "    </tr>\n",
       "    <tr>\n",
       "      <th>3</th>\n",
       "      <td>1</td>\n",
       "      <td>89</td>\n",
       "      <td>66</td>\n",
       "      <td>23</td>\n",
       "      <td>94</td>\n",
       "      <td>28.1</td>\n",
       "      <td>0.167</td>\n",
       "      <td>21</td>\n",
       "      <td>0.9062</td>\n",
       "      <td>False</td>\n",
       "    </tr>\n",
       "    <tr>\n",
       "      <th>4</th>\n",
       "      <td>0</td>\n",
       "      <td>137</td>\n",
       "      <td>40</td>\n",
       "      <td>35</td>\n",
       "      <td>168</td>\n",
       "      <td>43.1</td>\n",
       "      <td>2.288</td>\n",
       "      <td>33</td>\n",
       "      <td>1.3790</td>\n",
       "      <td>True</td>\n",
       "    </tr>\n",
       "  </tbody>\n",
       "</table>\n",
       "</div>"
      ],
      "text/plain": [
       "   num_preg  glucose_conc  diastolic_bp  thickness  insulin   bmi  diab_pred  \\\n",
       "0         6           148            72         35        0  33.6      0.627   \n",
       "1         1            85            66         29        0  26.6      0.351   \n",
       "2         8           183            64          0        0  23.3      0.672   \n",
       "3         1            89            66         23       94  28.1      0.167   \n",
       "4         0           137            40         35      168  43.1      2.288   \n",
       "\n",
       "   age    skin  diabetes  \n",
       "0   50  1.3780      True  \n",
       "1   31  1.1426     False  \n",
       "2   32  0.0000      True  \n",
       "3   21  0.9062     False  \n",
       "4   33  1.3790      True  "
      ]
     },
     "execution_count": 4,
     "metadata": {},
     "output_type": "execute_result"
    }
   ],
   "source": [
    "#apresenta cabeçalho de dados e primeiras linhas\n",
    "df.head(5)"
   ]
  },
  {
   "cell_type": "code",
   "execution_count": 5,
   "id": "761ff7da-ce9f-48d7-a263-b9256c7c51b2",
   "metadata": {},
   "outputs": [
    {
     "data": {
      "text/plain": [
       "False"
      ]
     },
     "execution_count": 5,
     "metadata": {},
     "output_type": "execute_result"
    }
   ],
   "source": [
    "#cheque analise de presença de dados nan\n",
    "df.isnull().values.any()"
   ]
  },
  {
   "cell_type": "code",
   "execution_count": 6,
   "id": "2a8c0c04-fa49-4338-8ffd-1b2e810d4eb4",
   "metadata": {},
   "outputs": [],
   "source": [
    "#cria funcao para plotar mapa de calor com dados de correlacao\n",
    "def heatmapCorr(table_df):\n",
    "    corrMatrix = table_df.corr()\n",
    "    RdBu_r = plt.cm.get_cmap('RdBu')\n",
    "    RdBu_r = RdBu_r.reversed()\n",
    "    plt.imshow(corrMatrix, cmap=RdBu_r , interpolation='nearest')\n",
    "    plt.colorbar()\n",
    "    plt.clim(-1,1)\n",
    "    plt.xticks(range(len(corrMatrix.columns)),corrMatrix.columns,rotation='vertical')\n",
    "    plt.yticks(range(len(corrMatrix.columns)),corrMatrix.columns)"
   ]
  },
  {
   "cell_type": "code",
   "execution_count": 7,
   "id": "56f88001-0ef0-4c3e-a1a5-118a1d16fcba",
   "metadata": {},
   "outputs": [
    {
     "data": {
      "image/png": "[encoded data removed]",
      "text/plain": [
       "<Figure size 432x288 with 2 Axes>"
      ]
     },
     "metadata": {
      "needs_background": "light"
     },
     "output_type": "display_data"
    }
   ],
   "source": [
    "#aplica a funcao criada acima\n",
    "heatmapCorr(df)"
   ]
  },
  {
   "cell_type": "code",
   "execution_count": 8,
   "id": "72d1a94c-42fc-4b5c-9ecf-307a6834ea31",
   "metadata": {},
   "outputs": [],
   "source": [
    "#cria dicionario para mapear true e falses por 1 e 0\n",
    "diabetes_map = {True : 1, False : 0}"
   ]
  },
  {
   "cell_type": "code",
   "execution_count": 9,
   "id": "7eddbb5a-7f84-4498-8d24-d40775d259d0",
   "metadata": {},
   "outputs": [
    {
     "data": {
      "text/html": [
       "<div>\n",
       "<style scoped>\n",
       "    .dataframe tbody tr th:only-of-type {\n",
       "        vertical-align: middle;\n",
       "    }\n",
       "\n",
       "    .dataframe tbody tr th {\n",
       "        vertical-align: top;\n",
       "    }\n",
       "\n",
       "    .dataframe thead th {\n",
       "        text-align: right;\n",
       "    }\n",
       "</style>\n",
       "<table border=\"1\" class=\"dataframe\">\n",
       "  <thead>\n",
       "    <tr style=\"text-align: right;\">\n",
       "      <th></th>\n",
       "      <th>num_preg</th>\n",
       "      <th>glucose_conc</th>\n",
       "      <th>diastolic_bp</th>\n",
       "      <th>thickness</th>\n",
       "      <th>insulin</th>\n",
       "      <th>bmi</th>\n",
       "      <th>diab_pred</th>\n",
       "      <th>age</th>\n",
       "      <th>skin</th>\n",
       "      <th>diabetes</th>\n",
       "    </tr>\n",
       "  </thead>\n",
       "  <tbody>\n",
       "    <tr>\n",
       "      <th>0</th>\n",
       "      <td>6</td>\n",
       "      <td>148</td>\n",
       "      <td>72</td>\n",
       "      <td>35</td>\n",
       "      <td>0</td>\n",
       "      <td>33.6</td>\n",
       "      <td>0.627</td>\n",
       "      <td>50</td>\n",
       "      <td>1.3780</td>\n",
       "      <td>1</td>\n",
       "    </tr>\n",
       "    <tr>\n",
       "      <th>1</th>\n",
       "      <td>1</td>\n",
       "      <td>85</td>\n",
       "      <td>66</td>\n",
       "      <td>29</td>\n",
       "      <td>0</td>\n",
       "      <td>26.6</td>\n",
       "      <td>0.351</td>\n",
       "      <td>31</td>\n",
       "      <td>1.1426</td>\n",
       "      <td>0</td>\n",
       "    </tr>\n",
       "    <tr>\n",
       "      <th>2</th>\n",
       "      <td>8</td>\n",
       "      <td>183</td>\n",
       "      <td>64</td>\n",
       "      <td>0</td>\n",
       "      <td>0</td>\n",
       "      <td>23.3</td>\n",
       "      <td>0.672</td>\n",
       "      <td>32</td>\n",
       "      <td>0.0000</td>\n",
       "      <td>1</td>\n",
       "    </tr>\n",
       "    <tr>\n",
       "      <th>3</th>\n",
       "      <td>1</td>\n",
       "      <td>89</td>\n",
       "      <td>66</td>\n",
       "      <td>23</td>\n",
       "      <td>94</td>\n",
       "      <td>28.1</td>\n",
       "      <td>0.167</td>\n",
       "      <td>21</td>\n",
       "      <td>0.9062</td>\n",
       "      <td>0</td>\n",
       "    </tr>\n",
       "    <tr>\n",
       "      <th>4</th>\n",
       "      <td>0</td>\n",
       "      <td>137</td>\n",
       "      <td>40</td>\n",
       "      <td>35</td>\n",
       "      <td>168</td>\n",
       "      <td>43.1</td>\n",
       "      <td>2.288</td>\n",
       "      <td>33</td>\n",
       "      <td>1.3790</td>\n",
       "      <td>1</td>\n",
       "    </tr>\n",
       "  </tbody>\n",
       "</table>\n",
       "</div>"
      ],
      "text/plain": [
       "   num_preg  glucose_conc  diastolic_bp  thickness  insulin   bmi  diab_pred  \\\n",
       "0         6           148            72         35        0  33.6      0.627   \n",
       "1         1            85            66         29        0  26.6      0.351   \n",
       "2         8           183            64          0        0  23.3      0.672   \n",
       "3         1            89            66         23       94  28.1      0.167   \n",
       "4         0           137            40         35      168  43.1      2.288   \n",
       "\n",
       "   age    skin  diabetes  \n",
       "0   50  1.3780         1  \n",
       "1   31  1.1426         0  \n",
       "2   32  0.0000         1  \n",
       "3   21  0.9062         0  \n",
       "4   33  1.3790         1  "
      ]
     },
     "execution_count": 9,
     "metadata": {},
     "output_type": "execute_result"
    }
   ],
   "source": [
    "#aplica o mapeamento criado anteriormente\n",
    "df['diabetes']=df['diabetes'].map(diabetes_map)\n",
    "df.head(5)"
   ]
  },
  {
   "cell_type": "code",
   "execution_count": 10,
   "id": "e81131a4-4ac4-4d5d-80ab-1ad71a8eeea1",
   "metadata": {},
   "outputs": [
    {
     "name": "stdout",
     "output_type": "stream",
     "text": [
      "Casos Positivos: 268 (34.90%)\n",
      "Casos Negativos: 500 (65.10%)\n"
     ]
    }
   ],
   "source": [
    "#distribubiçao de casos positivos e negativos\n",
    "positivos = len(df.loc[df['diabetes']==1])\n",
    "negativos = len(df.loc[df['diabetes']==0])\n",
    "print(\"Casos Positivos: {0} ({1:2.2f}%)\" .format(positivos, positivos*100/len(df)))\n",
    "print(\"Casos Negativos: {0} ({1:2.2f}%)\" .format(negativos, negativos*100/len(df)))"
   ]
  },
  {
   "cell_type": "code",
   "execution_count": 11,
   "id": "95aeae58-6c3b-4789-90e5-178ebbcf99c0",
   "metadata": {},
   "outputs": [],
   "source": [
    "#import train_teste_split\n",
    "from sklearn.model_selection import train_test_split"
   ]
  },
  {
   "cell_type": "code",
   "execution_count": 12,
   "id": "a23ba286-7d96-4fbc-b4f2-0126737eac74",
   "metadata": {},
   "outputs": [],
   "source": [
    "#criando objetos com atributos uteis\n",
    "x = df[['num_preg', 'glucose_conc', 'diastolic_bp', 'thickness', 'insulin', 'bmi', 'diab_pred', 'age']].values\n",
    "y = df[['diabetes']].values"
   ]
  },
  {
   "cell_type": "code",
   "execution_count": 13,
   "id": "8d5f2874-8d9c-4772-a986-a60a57cc4fd6",
   "metadata": {},
   "outputs": [],
   "source": [
    "#realizando split nos dados para divisao entre treino e teste\n",
    "xTreino,xTeste,yTreino,yTeste = train_test_split(x,y,test_size=0.3,random_state=42)"
   ]
  },
  {
   "cell_type": "code",
   "execution_count": 14,
   "id": "ff80b5d3-892c-4480-8305-a830e73cd387",
   "metadata": {},
   "outputs": [
    {
     "name": "stdout",
     "output_type": "stream",
     "text": [
      "n treino: 537 (69.92%)\n",
      "n teste : 231 (30.08%)\n"
     ]
    }
   ],
   "source": [
    "#analisando distribuição de dados de treino e teste\n",
    "infoTreino = len(yTreino)\n",
    "infoTeste  = len(yTeste)\n",
    "print(\"n treino: {0} ({1:2.2f}%)\" .format(infoTreino, infoTreino*100/len(df)))\n",
    "print(\"n teste : {0} ({1:2.2f}%)\" .format(infoTeste, infoTeste*100/len(df)))"
   ]
  },
  {
   "cell_type": "code",
   "execution_count": 15,
   "id": "88222679-189f-4503-9eff-8e9d3274ffad",
   "metadata": {},
   "outputs": [
    {
     "name": "stdout",
     "output_type": "stream",
     "text": [
      "Casos Positivos Treino: 188 (35.01%)\n",
      "Casos Negativos Treino: 349 (64.99%)\n",
      "\n",
      "Casos Positivos Teste: 80 (34.63%)\n",
      "Casos Negativos Teste: 151 (65.37%)\n"
     ]
    }
   ],
   "source": [
    "#analisando distribuição de dados de treino e teste\n",
    "positivosTreino = len(yTreino[yTreino[:]==1])\n",
    "negativosTreino = len(yTreino[yTreino[:]==0])\n",
    "print(\"Casos Positivos Treino: {0} ({1:2.2f}%)\" .format(positivosTreino, positivosTreino*100/len(yTreino)))\n",
    "print(\"Casos Negativos Treino: {0} ({1:2.2f}%)\" .format(negativosTreino, negativosTreino*100/len(yTreino)))\n",
    "print(\"\")\n",
    "positivosTeste = len(yTeste[yTeste[:]==1])\n",
    "negativosTeste = len(yTeste[yTeste[:]==0])\n",
    "print(\"Casos Positivos Teste: {0} ({1:2.2f}%)\" .format(positivosTeste, positivosTeste*100/len(yTeste)))\n",
    "print(\"Casos Negativos Teste: {0} ({1:2.2f}%)\" .format(negativosTeste, negativosTeste*100/len(yTeste)))"
   ]
  },
  {
   "cell_type": "code",
   "execution_count": 16,
   "id": "85b53b1a-6822-40e1-82a3-37a9938def64",
   "metadata": {},
   "outputs": [
    {
     "name": "stdout",
     "output_type": "stream",
     "text": [
      "n glucose_conc missing values: 5\n",
      "n diastolic_bp missing values: 35\n",
      "n thickness missing values: 227\n",
      "n insulinc missing values: 374\n",
      "n bmi missing values: 11\n",
      "n diab_pred missing values: 0\n",
      "n age missing values: 0\n"
     ]
    }
   ],
   "source": [
    "#analisando missing ocultos\n",
    "print(\"n glucose_conc missing values: {0}\" .format(len(df.loc[df['glucose_conc']==0])))\n",
    "print(\"n diastolic_bp missing values: {0}\" .format(len(df.loc[df['diastolic_bp']==0])))\n",
    "print(\"n thickness missing values: {0}\"    .format(len(df.loc[df['thickness']==0])))\n",
    "print(\"n insulinc missing values: {0}\"     .format(len(df.loc[df['insulin']==0])))\n",
    "print(\"n bmi missing values: {0}\"          .format(len(df.loc[df['bmi']==0])))\n",
    "print(\"n diab_pred missing values: {0}\"    .format(len(df.loc[df['diab_pred']==0])))\n",
    "print(\"n age missing values: {0}\"          .format(len(df.loc[df['age']==0])))"
   ]
  },
  {
   "cell_type": "markdown",
   "id": "82ec21a0-cd2b-4884-9ad9-320a7b427064",
   "metadata": {},
   "source": [
    "## Treinando o modelo - Naive Bayes"
   ]
  },
  {
   "cell_type": "code",
   "execution_count": 17,
   "id": "6df8cee8-e595-4873-8207-ac8d10f48f1c",
   "metadata": {},
   "outputs": [],
   "source": [
    "#importa função imputer do sklearn\n",
    "from sklearn.impute import SimpleImputer"
   ]
  },
  {
   "cell_type": "code",
   "execution_count": 18,
   "id": "dd6370f6-3e95-41cd-ae90-721e0fc243a6",
   "metadata": {},
   "outputs": [],
   "source": [
    "#aplica os valores medios de cada coluna sobre os valores missings ocultos\n",
    "imp_mean = SimpleImputer(missing_values=0, strategy='mean')\n",
    "xTreino = imp_mean.fit_transform(xTreino)\n",
    "xTeste  = imp_mean.fit_transform(xTeste)"
   ]
  },
  {
   "cell_type": "code",
   "execution_count": 19,
   "id": "d62a06f4-bcfb-4855-a4a0-30e01c1b6e94",
   "metadata": {},
   "outputs": [],
   "source": [
    "#import modelo de classificação Naive Bayes\n",
    "from sklearn.naive_bayes import GaussianNB"
   ]
  },
  {
   "cell_type": "code",
   "execution_count": 20,
   "id": "fb415594-5f89-4336-9972-a56a3a0088c5",
   "metadata": {},
   "outputs": [
    {
     "data": {
      "text/plain": [
       "GaussianNB()"
      ]
     },
     "execution_count": 20,
     "metadata": {},
     "output_type": "execute_result"
    }
   ],
   "source": [
    "#treinando o modelo\n",
    "mod_v1 = GaussianNB()\n",
    "mod_v1.fit(xTreino,yTreino.ravel())"
   ]
  },
  {
   "cell_type": "markdown",
   "id": "24e0e03a-f205-4390-906a-25020db83a77",
   "metadata": {},
   "source": [
    "## Avaliando o treinamento"
   ]
  },
  {
   "cell_type": "code",
   "execution_count": 21,
   "id": "188e8040-2a01-40e1-820e-d925b0061a54",
   "metadata": {},
   "outputs": [],
   "source": [
    "#importa o pacote metrics do sklearn\n",
    "from sklearn import metrics"
   ]
  },
  {
   "cell_type": "code",
   "execution_count": 22,
   "id": "80ad4e26-6695-4f8a-8e14-cf38a0697602",
   "metadata": {},
   "outputs": [
    {
     "name": "stdout",
     "output_type": "stream",
     "text": [
      "Accuracy-score: 0.7542\n"
     ]
    }
   ],
   "source": [
    "#avaliando a partir do accuracy_score\n",
    "modV1_predict_train = mod_v1.predict(xTreino)\n",
    "print(\"Accuracy-score: {0:.4f}\" .format(metrics.accuracy_score(yTreino, modV1_predict_train)))"
   ]
  },
  {
   "cell_type": "markdown",
   "id": "f5e85b79-279d-4e3f-80c9-300616d2ba32",
   "metadata": {},
   "source": [
    "## Avaliando o teste e suas métricas"
   ]
  },
  {
   "cell_type": "code",
   "execution_count": 23,
   "id": "6ba32399-927c-47d1-a705-e9b7322e6ab7",
   "metadata": {},
   "outputs": [
    {
     "name": "stdout",
     "output_type": "stream",
     "text": [
      "Accuracy-score: 0.7359\n"
     ]
    }
   ],
   "source": [
    "#avaliando a partir do accuracy_score\n",
    "modV1_predict_test = mod_v1.predict(xTeste)\n",
    "print(\"Accuracy-score: {0:.4f}\" .format(metrics.accuracy_score(yTeste, modV1_predict_test)))"
   ]
  },
  {
   "cell_type": "code",
   "execution_count": 24,
   "id": "aaf4560f-9fe0-48a3-bc37-b8111c410a25",
   "metadata": {},
   "outputs": [],
   "source": [
    "#importando matriz de confusão\n",
    "from IPython.display import Image\n",
    "from sklearn.metrics import ConfusionMatrixDisplay, confusion_matrix"
   ]
  },
  {
   "cell_type": "code",
   "execution_count": 25,
   "id": "a00c2ea1-8908-4f7d-b9e5-1fecc533f62c",
   "metadata": {},
   "outputs": [
    {
     "data": {
      "text/plain": [
       "<sklearn.metrics._plot.confusion_matrix.ConfusionMatrixDisplay at 0x2d201425280>"
      ]
     },
     "execution_count": 25,
     "metadata": {},
     "output_type": "execute_result"
    },
    {
     "data": {
      "image/png": "[encoded data removed]",
      "text/plain": [
       "<Figure size 432x288 with 2 Axes>"
      ]
     },
     "metadata": {
      "needs_background": "light"
     },
     "output_type": "display_data"
    }
   ],
   "source": [
    "#aplicando matriz de confusão\n",
    "myConfusionMatrix = metrics.confusion_matrix(yTeste,modV1_predict_test, labels=mod_v1.classes_)\n",
    "disp = ConfusionMatrixDisplay(confusion_matrix=myConfusionMatrix,\n",
    "                              display_labels=mod_v1.classes_)\n",
    "disp.plot()"
   ]
  },
  {
   "cell_type": "code",
   "execution_count": 26,
   "id": "535d2f9a-8ab9-4fd5-8f93-e1a7478a25bc",
   "metadata": {},
   "outputs": [
    {
     "name": "stdout",
     "output_type": "stream",
     "text": [
      "Classification Report\n",
      "              precision    recall  f1-score   support\n",
      "\n",
      "           1       0.61      0.65      0.63        80\n",
      "           0       0.81      0.78      0.79       151\n",
      "\n",
      "    accuracy                           0.74       231\n",
      "   macro avg       0.71      0.72      0.71       231\n",
      "weighted avg       0.74      0.74      0.74       231\n",
      "\n"
     ]
    }
   ],
   "source": [
    "#aplicando classification report\n",
    "print(\"Classification Report\")\n",
    "print(metrics.classification_report(yTeste,modV1_predict_test,labels=[1,0]))"
   ]
  },
  {
   "cell_type": "markdown",
   "id": "6e4ab19c-c6a5-4029-915d-94b5df6ee518",
   "metadata": {},
   "source": [
    "## Treinando o modelo - Randon Forest (conjunto de arvores de decisão) "
   ]
  },
  {
   "cell_type": "code",
   "execution_count": 27,
   "id": "fbc9fa65-44e8-4457-9dc0-cd77025589a2",
   "metadata": {},
   "outputs": [],
   "source": [
    "#import modelo de classificação Random Forest\n",
    "from sklearn.ensemble import RandomForestClassifier"
   ]
  },
  {
   "cell_type": "code",
   "execution_count": 28,
   "id": "6461c41f-6d24-40f3-b5b2-82502e354949",
   "metadata": {},
   "outputs": [
    {
     "data": {
      "text/plain": [
       "RandomForestClassifier(random_state=42)"
      ]
     },
     "execution_count": 28,
     "metadata": {},
     "output_type": "execute_result"
    }
   ],
   "source": [
    "#treinando o modelo\n",
    "mod_v2 = RandomForestClassifier(random_state=42)\n",
    "mod_v2.fit(xTreino,yTreino.ravel())"
   ]
  },
  {
   "cell_type": "markdown",
   "id": "8edf6647-bb55-4c6f-ab65-ed63edd4c392",
   "metadata": {},
   "source": [
    "## Avaliando o treinamento"
   ]
  },
  {
   "cell_type": "code",
   "execution_count": 29,
   "id": "0264e76b-931e-4c5b-9080-f85d48e1ec86",
   "metadata": {},
   "outputs": [
    {
     "name": "stdout",
     "output_type": "stream",
     "text": [
      "Accuracy-score: 1.0000\n"
     ]
    }
   ],
   "source": [
    "#avaliando a partir do accuracy_score\n",
    "modV2_predict_train = mod_v2.predict(xTreino)\n",
    "print(\"Accuracy-score: {0:.4f}\" .format(metrics.accuracy_score(yTreino, modV2_predict_train)))"
   ]
  },
  {
   "cell_type": "markdown",
   "id": "52ec20ee-0e43-4a73-8388-b270e9a7f1bf",
   "metadata": {},
   "source": [
    "## Avaliando o teste e suas métricas"
   ]
  },
  {
   "cell_type": "code",
   "execution_count": 30,
   "id": "b4bf885e-2d39-49a7-8390-1f621bef91ea",
   "metadata": {},
   "outputs": [
    {
     "name": "stdout",
     "output_type": "stream",
     "text": [
      "Accuracy-score: 0.7403\n"
     ]
    }
   ],
   "source": [
    "#avaliando a partir do accuracy_score\n",
    "modV2_predict_test = mod_v2.predict(xTeste)\n",
    "print(\"Accuracy-score: {0:.4f}\" .format(metrics.accuracy_score(yTeste, modV2_predict_test)))"
   ]
  },
  {
   "cell_type": "code",
   "execution_count": 31,
   "id": "c701ef32-eefc-4f70-9918-1dd1541c0b45",
   "metadata": {},
   "outputs": [
    {
     "data": {
      "text/plain": [
       "<sklearn.metrics._plot.confusion_matrix.ConfusionMatrixDisplay at 0x2d2016dd6a0>"
      ]
     },
     "execution_count": 31,
     "metadata": {},
     "output_type": "execute_result"
    },
    {
     "data": {
      "image/png": "[encoded data removed]",
      "text/plain": [
       "<Figure size 432x288 with 2 Axes>"
      ]
     },
     "metadata": {
      "needs_background": "light"
     },
     "output_type": "display_data"
    }
   ],
   "source": [
    "#aplicando matriz de confusão\n",
    "myConfusionMatrix = metrics.confusion_matrix(yTeste,modV2_predict_test, labels=mod_v2.classes_)\n",
    "disp = ConfusionMatrixDisplay(confusion_matrix=myConfusionMatrix,\n",
    "                              display_labels=mod_v2.classes_)\n",
    "disp.plot()"
   ]
  },
  {
   "cell_type": "code",
   "execution_count": 32,
   "id": "a434f9dd-b74c-4aa1-9356-9b14c6148483",
   "metadata": {},
   "outputs": [
    {
     "name": "stdout",
     "output_type": "stream",
     "text": [
      "Classification Report\n",
      "              precision    recall  f1-score   support\n",
      "\n",
      "           1       0.62      0.65      0.63        80\n",
      "           0       0.81      0.79      0.80       151\n",
      "\n",
      "    accuracy                           0.74       231\n",
      "   macro avg       0.71      0.72      0.72       231\n",
      "weighted avg       0.74      0.74      0.74       231\n",
      "\n"
     ]
    }
   ],
   "source": [
    "#aplicando classification report\n",
    "print(\"Classification Report\")\n",
    "print(metrics.classification_report(yTeste,modV2_predict_test,labels=[1,0]))"
   ]
  },
  {
   "cell_type": "markdown",
   "id": "b4678c21-a95d-4cbe-b2fe-53306fc87ea1",
   "metadata": {},
   "source": [
    "## Treinando o modelo - Regressão Logística"
   ]
  },
  {
   "cell_type": "code",
   "execution_count": 44,
   "id": "33a2d0f1-d11a-40dd-8c3c-269e5d87135d",
   "metadata": {},
   "outputs": [],
   "source": [
    "#import modelo de classificação Regressão Logística\n",
    "from sklearn.linear_model import LogisticRegression"
   ]
  },
  {
   "cell_type": "code",
   "execution_count": 53,
   "id": "50baef86-6f96-497a-8131-15409ce8bbcb",
   "metadata": {},
   "outputs": [
    {
     "data": {
      "text/plain": [
       "LogisticRegression(C=0.7, max_iter=180, random_state=42)"
      ]
     },
     "execution_count": 53,
     "metadata": {},
     "output_type": "execute_result"
    }
   ],
   "source": [
    "#treinando o modelo\n",
    "mod_v3= LogisticRegression(C = 0.7,max_iter=180,random_state=42)\n",
    "mod_v3.fit(xTreino,yTreino.ravel())"
   ]
  },
  {
   "cell_type": "markdown",
   "id": "57ea59f3-1064-488b-b4b7-00fec3139cde",
   "metadata": {},
   "source": [
    "## Avaliando o teste e suas métricas"
   ]
  },
  {
   "cell_type": "code",
   "execution_count": 54,
   "id": "eec9616f-9042-4627-90ca-bff4a0fd7036",
   "metadata": {},
   "outputs": [
    {
     "name": "stdout",
     "output_type": "stream",
     "text": [
      "Accuracy-score: 0.7359\n"
     ]
    }
   ],
   "source": [
    "#avaliando a partir do accuracy_score\n",
    "modV3_predict_test = mod_v3.predict(xTeste)\n",
    "print(\"Accuracy-score: {0:.4f}\" .format(metrics.accuracy_score(yTeste, modV3_predict_test)))"
   ]
  },
  {
   "cell_type": "code",
   "execution_count": 55,
   "id": "097923ca-fe2d-46be-8a6e-811fa8751dce",
   "metadata": {},
   "outputs": [
    {
     "data": {
      "text/plain": [
       "<sklearn.metrics._plot.confusion_matrix.ConfusionMatrixDisplay at 0x2d27fb22f10>"
      ]
     },
     "execution_count": 55,
     "metadata": {},
     "output_type": "execute_result"
    },
    {
     "data": {
      "image/png": "[encoded data removed]",
      "text/plain": [
       "<Figure size 432x288 with 2 Axes>"
      ]
     },
     "metadata": {
      "needs_background": "light"
     },
     "output_type": "display_data"
    }
   ],
   "source": [
    "#aplicando matriz de confusão\n",
    "myConfusionMatrix = metrics.confusion_matrix(yTeste,modV3_predict_test, labels=mod_v3.classes_)\n",
    "disp = ConfusionMatrixDisplay(confusion_matrix=myConfusionMatrix,\n",
    "                              display_labels=mod_v3.classes_)\n",
    "disp.plot()"
   ]
  },
  {
   "cell_type": "code",
   "execution_count": 56,
   "id": "ecfac7bb-ada0-40b4-afee-05030cd21862",
   "metadata": {},
   "outputs": [
    {
     "name": "stdout",
     "output_type": "stream",
     "text": [
      "Classification Report\n",
      "              precision    recall  f1-score   support\n",
      "\n",
      "           1       0.63      0.59      0.61        80\n",
      "           0       0.79      0.81      0.80       151\n",
      "\n",
      "    accuracy                           0.74       231\n",
      "   macro avg       0.71      0.70      0.70       231\n",
      "weighted avg       0.73      0.74      0.73       231\n",
      "\n"
     ]
    }
   ],
   "source": [
    "#aplicando classification report\n",
    "print(\"Classification Report\")\n",
    "print(metrics.classification_report(yTeste,modV3_predict_test,labels=[1,0]))"
   ]
  },
  {
   "cell_type": "markdown",
   "id": "70af4e41-45c8-4208-ab2b-1546dee195b4",
   "metadata": {},
   "source": [
    "## Save do modelo preditivo escolhido - Modelo V2 - Randon Forest"
   ]
  },
  {
   "cell_type": "code",
   "execution_count": 58,
   "id": "5b21111b-a3ee-4865-a3bc-d4a80943937b",
   "metadata": {},
   "outputs": [],
   "source": [
    "#importando pickle\n",
    "import pickle"
   ]
  },
  {
   "cell_type": "code",
   "execution_count": 60,
   "id": "0fc22c47-d728-4d4a-8b2e-41dcfa8ab72b",
   "metadata": {},
   "outputs": [],
   "source": [
    "#usando pickle para salvar o modelo\n",
    "filename = 'modelo_treinado_v2_RandonForest.sav'\n",
    "pickle.dump(mod_v2,open(filename,'wb'))"
   ]
  },
  {
   "cell_type": "markdown",
   "id": "65f4fd4f-7e57-44db-a53c-50609cc8a4fd",
   "metadata": {},
   "source": [
    "## Realizando previsões com o modelo"
   ]
  },
  {
   "cell_type": "code",
   "execution_count": 80,
   "id": "b57995c4-4622-456b-af02-8050fc87ebce",
   "metadata": {},
   "outputs": [
    {
     "name": "stdout",
     "output_type": "stream",
     "text": [
      "Previsão de indivíduos com Diabetes\n",
      "--------\n",
      "indivíduo 111: [0]\n",
      "indivíduo 201: [0]\n",
      "indivíduo 19: [1]\n",
      "indivíduo 76: [1]\n"
     ]
    }
   ],
   "source": [
    "#fazendo previsões como o modelo preditivo\n",
    "loaded_model = pickle.load(open(filename, 'rb'))\n",
    "print(\"Previsão de indivíduos com Diabetes\")\n",
    "print(\"--------\")\n",
    "\n",
    "result1 = loaded_model.predict([xTeste[110]])\n",
    "print(\"indivíduo 111: {0}\" .format(result1))\n",
    "result2 = loaded_model.predict([xTeste[200]])\n",
    "print(\"indivíduo 201: {0}\" .format(result2))\n",
    "result3 = loaded_model.predict([xTeste[18]])\n",
    "print(\"indivíduo 19: {0}\" .format(result3))\n",
    "result4 = loaded_model.predict([xTeste[75]])\n",
    "print(\"indivíduo 76: {0}\" .format(result4))\n"
   ]
  }
 ],
 "metadata": {
  "kernelspec": {
   "display_name": "Python 3 (ipykernel)",
   "language": "python",
   "name": "python3"
  },
  "language_info": {
   "codemirror_mode": {
    "name": "ipython",
    "version": 3
   },
   "file_extension": ".py",
   "mimetype": "text/x-python",
   "name": "python",
   "nbconvert_exporter": "python",
   "pygments_lexer": "ipython3",
   "version": "3.9.12"
  }
 },
 "nbformat": 4,
 "nbformat_minor": 5
}
